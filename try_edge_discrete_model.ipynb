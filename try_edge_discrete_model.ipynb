{
 "cells": [
  {
   "cell_type": "markdown",
   "metadata": {},
   "source": [
    "### pulp+cbcを用いて、エッジを離散化して不在確率込みのTSPを解く"
   ]
  },
  {
   "cell_type": "code",
   "execution_count": 1,
   "metadata": {
    "collapsed": true
   },
   "outputs": [],
   "source": [
    "import random, math\n",
    "import pulp\n",
    "import itertools\n",
    "import networkx as nx\n",
    "from scipy.spatial.distance import euclidean\n",
    "import matplotlib.pyplot as plt\n",
    "from itertools import combinations, permutations\n",
    "import scop\n",
    "\n",
    "%matplotlib inline"
   ]
  },
  {
   "cell_type": "markdown",
   "metadata": {},
   "source": [
    "### create data"
   ]
  },
  {
   "cell_type": "code",
   "execution_count": 94,
   "metadata": {
    "collapsed": true
   },
   "outputs": [],
   "source": [
    "START_NODE = 0\n",
    "NUM_NODE = 7\n",
    "NUM_PERIOD = NUM_NODE + 2\n",
    "END_NODE = NUM_NODE + 1\n",
    "AREA_SIZE = 20"
   ]
  },
  {
   "cell_type": "code",
   "execution_count": 95,
   "metadata": {
    "collapsed": true
   },
   "outputs": [],
   "source": [
    "list_node_with_start_end = list(range(START_NODE, NUM_NODE + 2))\n",
    "list_node_with_start = list(range(START_NODE, NUM_NODE + 1))\n",
    "list_node_with_end = list(range(1, NUM_NODE + 2))\n",
    "list_node = list(range(1, NUM_NODE + 1))\n",
    "list_period = list(range(0, NUM_PERIOD))"
   ]
  },
  {
   "cell_type": "code",
   "execution_count": 96,
   "metadata": {
    "collapsed": true
   },
   "outputs": [],
   "source": [
    "node_coordinate_map = {}\n",
    "for n in list_node:\n",
    "    node_coordinate_map[n] = (random.randint(0, AREA_SIZE), random.randint(0, AREA_SIZE))"
   ]
  },
  {
   "cell_type": "code",
   "execution_count": 97,
   "metadata": {
    "collapsed": true
   },
   "outputs": [],
   "source": [
    "node_period_proba_map = {}\n",
    "for n in list_node_with_start_end:\n",
    "    for t in list_period:\n",
    "        if n==START_NODE or n==END_NODE or t==list_period[0] or t==list_period[-1]:\n",
    "            proba = 0\n",
    "        else:\n",
    "            proba = random.random()\n",
    "        node_period_proba_map[n, t] = proba"
   ]
  },
  {
   "cell_type": "code",
   "execution_count": 98,
   "metadata": {
    "collapsed": true
   },
   "outputs": [],
   "source": [
    "node_node_dist_map = {}\n",
    "for n1 in list_node_with_start:\n",
    "    for n2 in list_node_with_end:\n",
    "        if n1==START_NODE or n2==END_NODE:\n",
    "            dist = 0\n",
    "        else:\n",
    "            x = node_coordinate_map[n1]\n",
    "            y = node_coordinate_map[n2]\n",
    "            dist = euclidean(x, y)\n",
    "        node_node_dist_map[n1, n2] = dist"
   ]
  },
  {
   "cell_type": "markdown",
   "metadata": {},
   "source": [
    "### Mip-Modelの作成"
   ]
  },
  {
   "cell_type": "code",
   "execution_count": 99,
   "metadata": {
    "collapsed": true
   },
   "outputs": [],
   "source": [
    "model = pulp.LpProblem(name='time-dependence-tsp', sense=pulp.LpMinimize)\n",
    "sense_map = {v: k for k, v in pulp.LpConstraintSenses.items()}"
   ]
  },
  {
   "cell_type": "markdown",
   "metadata": {},
   "source": [
    "#### 変数の作成"
   ]
  },
  {
   "cell_type": "code",
   "execution_count": 100,
   "metadata": {
    "collapsed": true
   },
   "outputs": [],
   "source": [
    "x_tij = {}\n",
    "for t in list_period:\n",
    "    for i in list_node_with_start:\n",
    "        for j in list_node_with_end:\n",
    "            if i==j:\n",
    "                continue\n",
    "            \n",
    "            v = pulp.LpVariable(cat=pulp.LpBinary, name='x_%s_%s_%s'%(t, i, j))\n",
    "            x_tij[t, i, j] = v\n",
    "            model.addVariable(v)\n",
    "            \n",
    "u_i = {}\n",
    "for i in list_node_with_start_end:\n",
    "    v = pulp.LpVariable(cat=pulp.LpInteger, name='u_%s'%i)\n",
    "    u_i[i] = v\n",
    "    model.addVariable(v)"
   ]
  },
  {
   "cell_type": "markdown",
   "metadata": {},
   "source": [
    "#### ノード間に関する制約\n",
    "$x_i$"
   ]
  },
  {
   "cell_type": "code",
   "execution_count": 101,
   "metadata": {
    "collapsed": true
   },
   "outputs": [],
   "source": [
    "for i in list_node:\n",
    "    expr = pulp.lpSum(x_tij[t, j, i] for t in list_period for j in list_node_with_start if (t, j, i) in x_tij)\n",
    "    constr = pulp.LpConstraint(e=expr, sense=sense_map['='], rhs=1, name='node_in_constr_%s'%i)\n",
    "    model.addConstraint(constr)\n",
    "    \n",
    "    expr = pulp.lpSum(x_tij[t, i, j] for t in list_period for j in list_node_with_end if (t, i, j) in x_tij)\n",
    "    constr = pulp.LpConstraint(e=expr, sense=sense_map['='], rhs=1, name='node_out_constr_%s'%i)\n",
    "    model.addConstraint(constr)"
   ]
  },
  {
   "cell_type": "code",
   "execution_count": 102,
   "metadata": {
    "collapsed": true
   },
   "outputs": [],
   "source": [
    "constr = pulp.LpConstraint(e=u_i[START_NODE], sense=sense_map['='], rhs=list_period[0], name='start_constr')\n",
    "model.addConstraint(constr)\n",
    "\n",
    "constr = pulp.LpConstraint(e=u_i[END_NODE], sense=sense_map['='], rhs=list_period[-1], name='end_constr')\n",
    "model.addConstraint(constr)"
   ]
  },
  {
   "cell_type": "markdown",
   "metadata": {},
   "source": [
    "#### 訪問する地点の時刻を表す制約\n",
    "$y_t$"
   ]
  },
  {
   "cell_type": "code",
   "execution_count": 103,
   "metadata": {},
   "outputs": [],
   "source": [
    "for i in list_node_with_end:\n",
    "    expr = pulp.lpSum(t * x_tij[t, j, i] for t in list_period for j in list_node_with_start if (t, j, i) in x_tij) - u_i[i]\n",
    "    constr = pulp.LpConstraint(e=expr, sense=sense_map['='], rhs=0, name='x_u_time_constr_%s'%i)\n",
    "    model.addConstraint(constr)"
   ]
  },
  {
   "cell_type": "markdown",
   "metadata": {},
   "source": [
    "#### mtz制約\n",
    "$x, y$"
   ]
  },
  {
   "cell_type": "code",
   "execution_count": 104,
   "metadata": {},
   "outputs": [],
   "source": [
    "BigM = len(list_period)\n",
    "for i in list_node_with_start:\n",
    "    for j in list_node_with_end:\n",
    "        if i==j:\n",
    "            continue\n",
    "\n",
    "        expr = u_i[i] - u_i[j] + BigM * pulp.lpSum(x_tij[t, i, j] for t in list_period)\n",
    "        constr = pulp.LpConstraint(e=expr, sense=sense_map['<='], rhs=BigM - 1, name='mtz_%s_%s'%(i, j))\n",
    "        model.addConstraint(constr)"
   ]
  },
  {
   "cell_type": "markdown",
   "metadata": {},
   "source": [
    "#### 始点と終点に関する制約\n",
    "$x, y$"
   ]
  },
  {
   "cell_type": "code",
   "execution_count": 105,
   "metadata": {},
   "outputs": [],
   "source": [
    "expr = pulp.lpSum(x_tij[t, START_NODE, i] for t in list_period for i in list_node)\n",
    "constr = pulp.LpConstraint(e=expr, sense=sense_map['='], rhs=1, name='start_x_constr')\n",
    "model.addConstraint(constr)\n",
    "\n",
    "expr = pulp.lpSum(x_tij[t, i, END_NODE] for t in list_period for i in list_node)\n",
    "constr = pulp.LpConstraint(e=expr, sense=sense_map['='], rhs=1, name='end_x_constr')\n",
    "model.addConstraint(constr)"
   ]
  },
  {
   "cell_type": "markdown",
   "metadata": {},
   "source": [
    "#### 目的関数\n",
    "$x, y$"
   ]
  },
  {
   "cell_type": "code",
   "execution_count": 106,
   "metadata": {
    "collapsed": true
   },
   "outputs": [],
   "source": [
    "objective = pulp.lpSum(\n",
    "                            node_period_proba_map[j, t] * node_node_dist_map[i, j] * x_tij[t, i, j]\n",
    "                            for t in list_period for i in list_node for j in list_node\n",
    "                            if (t, i , j) in x_tij\n",
    "                      )\n",
    "model.setObjective(obj=objective)"
   ]
  },
  {
   "cell_type": "code",
   "execution_count": 107,
   "metadata": {},
   "outputs": [
    {
     "name": "stdout",
     "output_type": "stream",
     "text": [
      "Wall time: 1min 59s\n"
     ]
    }
   ],
   "source": [
    "%%time\n",
    "\n",
    "model.writeLP('./edge_discrete_tsp.lp')\n",
    "solver = pulp.PULP_CBC_CMD(msg=1, maxSeconds=120, fracGap=0.1, threads=None)\n",
    "pulp.LpStatus[model.solve(solver=solver)]"
   ]
  },
  {
   "cell_type": "code",
   "execution_count": 108,
   "metadata": {},
   "outputs": [
    {
     "name": "stdout",
     "output_type": "stream",
     "text": [
      "---------x---------\n",
      "0 2 1\n",
      "2 6 2\n",
      "6 4 3\n",
      "4 1 4\n",
      "1 3 5\n",
      "3 7 6\n",
      "7 5 7\n",
      "5 8 8\n",
      "--------u----------\n",
      "0 0\n",
      "1 4\n",
      "2 1\n",
      "3 5\n",
      "4 3\n",
      "5 7\n",
      "6 2\n",
      "7 6\n",
      "8 8\n",
      "--------objective-------\n",
      "11.609549823891891\n"
     ]
    }
   ],
   "source": [
    "# xの確認\n",
    "print('---------x---------')\n",
    "for (t, i, j) in x_tij:\n",
    "    if round(pulp.value(x_tij[t, i, j]))==1:\n",
    "        print(i, j, t)\n",
    "\n",
    "# uの確認\n",
    "print('--------u----------')\n",
    "for i in u_i:\n",
    "    print(i, round(pulp.value(u_i[i])))\n",
    "        \n",
    "# 目的関数値\n",
    "print('--------objective-------')\n",
    "print(pulp.value(model.objective))"
   ]
  },
  {
   "cell_type": "markdown",
   "metadata": {},
   "source": [
    "### SCOP-Model"
   ]
  },
  {
   "cell_type": "code",
   "execution_count": 109,
   "metadata": {
    "collapsed": true
   },
   "outputs": [],
   "source": [
    "model = scop.Model('time-dependent-tsp')"
   ]
  },
  {
   "cell_type": "markdown",
   "metadata": {},
   "source": [
    "#### 変数の作成"
   ]
  },
  {
   "cell_type": "code",
   "execution_count": 110,
   "metadata": {
    "collapsed": true
   },
   "outputs": [],
   "source": [
    "# 変数を作る\n",
    "x_i = {}\n",
    "for i in list_node_with_start_end:\n",
    "    v = model.addVariable(name='x_%s'%i, domain=list_period)\n",
    "    x_i[i] = v"
   ]
  },
  {
   "cell_type": "markdown",
   "metadata": {},
   "source": [
    "#### 始点と終点の期は固定する"
   ]
  },
  {
   "cell_type": "code",
   "execution_count": 111,
   "metadata": {
    "collapsed": true
   },
   "outputs": [],
   "source": [
    "start_constr = scop.Linear(name='start_constr', direction='=', rhs=1, weight='inf')\n",
    "start_constr.addTerms(1, x_i[START_NODE], list_period[0])\n",
    "model.addConstraint(start_constr)\n",
    "\n",
    "end_constr = scop.Linear(name='end_constr', direction='=', rhs=1, weight='inf')\n",
    "end_constr.addTerms(1, x_i[END_NODE], list_period[-1])\n",
    "model.addConstraint(end_constr)"
   ]
  },
  {
   "cell_type": "markdown",
   "metadata": {},
   "source": [
    "#### それぞれのノードは別々の値をとる制約"
   ]
  },
  {
   "cell_type": "code",
   "execution_count": 112,
   "metadata": {
    "collapsed": true
   },
   "outputs": [],
   "source": [
    "all_diff_constr = scop.Alldiff(name='all_diff', varlist=x_i.values(), weight='inf')\n",
    "model.addConstraint(all_diff_constr)"
   ]
  },
  {
   "cell_type": "markdown",
   "metadata": {},
   "source": [
    "#### 目的関数の設定"
   ]
  },
  {
   "cell_type": "code",
   "execution_count": 113,
   "metadata": {
    "collapsed": true
   },
   "outputs": [],
   "source": [
    "owd_constr = scop.Quadratic(name='owd_constr', direction='<=', rhs=0, weight=1)\n",
    "for i, j in list(itertools.permutations(list_node, 2)):\n",
    "    for t in list_period[1:]:\n",
    "        coeff = int(node_period_proba_map[j, t] * node_node_dist_map[i, j])\n",
    "        owd_constr.addTerms(coeff, x_i[i], t-1, x_i[j], t)\n",
    "        \n",
    "model.addConstraint(owd_constr)"
   ]
  },
  {
   "cell_type": "code",
   "execution_count": 114,
   "metadata": {},
   "outputs": [
    {
     "name": "stdout",
     "output_type": "stream",
     "text": [
      "solving using parameters: \n",
      " \n",
      "  TimeLimit =600 second \n",
      "\n",
      "  RandomSeed= 1 \n",
      "\n",
      "  OutputFlag= 1 \n",
      "\n",
      "\n",
      " ================ Now solving the problem ================ \n",
      "\n",
      "# reading data ... done: 0.01(s)\n",
      "penalty = 3/34 (hard/soft), time = 0.01(s), iteration = 0\n",
      "# improving the initial solution greedily\n",
      "penalty = 1/11 (hard/soft), time = 0.01(s), iteration = 0\n",
      "# start tabu search\n",
      "penalty = 0/35 (hard/soft), time = 0.01(s), iteration = 2\n",
      "penalty = 0/28 (hard/soft), time = 0.01(s), iteration = 12\n",
      "penalty = 0/20 (hard/soft), time = 0.01(s), iteration = 18\n",
      "penalty = 0/17 (hard/soft), time = 0.01(s), iteration = 57\n",
      "penalty = 0/15 (hard/soft), time = 0.01(s), iteration = 261\n",
      "penalty = 0/12 (hard/soft), time = 0.01(s), iteration = 1085\n",
      "penalty = 0/10 (hard/soft), time = 0.01(s), iteration = 1116\n",
      "penalty = 0/8 (hard/soft), time = 0.03(s), iteration = 3340\n",
      "\n",
      "\n",
      "# penalty = 0/8 (hard/soft)\n",
      "# cpu time = 0.03/2.49(s)\n",
      "# iteration = 3340/319731\n",
      "\n",
      "[best solution]\n",
      "x_0: 0\n",
      "x_1: 4\n",
      "x_2: 1\n",
      "x_3: 5\n",
      "x_4: 3\n",
      "x_5: 7\n",
      "x_6: 2\n",
      "x_7: 6\n",
      "x_8: 8\n",
      "\n",
      "penalty: 0/8 (hard/soft)\n",
      "\n",
      "[Violated constraints]\n",
      "owd_constr: 8\n",
      " \n",
      "\n",
      "Wall time: 2.57 s\n"
     ]
    }
   ],
   "source": [
    "%%time\n",
    "\n",
    "model.Params.OutputFlag = 1\n",
    "model.optimize()"
   ]
  },
  {
   "cell_type": "code",
   "execution_count": 115,
   "metadata": {
    "collapsed": true
   },
   "outputs": [],
   "source": [
    "node_visitperiod_map = {}\n",
    "for i in x_i:\n",
    "    node_visitperiod_map[i] = int(x_i[i].value)\n",
    "\n",
    "list_visit_node = [i[0] for i in sorted(node_visitperiod_map.items(), key=lambda x: x[1])]"
   ]
  },
  {
   "cell_type": "code",
   "execution_count": 116,
   "metadata": {},
   "outputs": [
    {
     "data": {
      "text/plain": [
       "[0, 2, 6, 4, 1, 3, 7, 5, 8]"
      ]
     },
     "execution_count": 116,
     "metadata": {},
     "output_type": "execute_result"
    }
   ],
   "source": [
    "list_visit_node"
   ]
  },
  {
   "cell_type": "code",
   "execution_count": null,
   "metadata": {
    "collapsed": true
   },
   "outputs": [],
   "source": [
    "model.Params.OutputFlag"
   ]
  },
  {
   "cell_type": "code",
   "execution_count": null,
   "metadata": {
    "collapsed": true
   },
   "outputs": [],
   "source": []
  }
 ],
 "metadata": {
  "kernelspec": {
   "display_name": "Python 3",
   "language": "python",
   "name": "python3"
  },
  "language_info": {
   "codemirror_mode": {
    "name": "ipython",
    "version": 3
   },
   "file_extension": ".py",
   "mimetype": "text/x-python",
   "name": "python",
   "nbconvert_exporter": "python",
   "pygments_lexer": "ipython3",
   "version": "3.6.3"
  }
 },
 "nbformat": 4,
 "nbformat_minor": 2
}
