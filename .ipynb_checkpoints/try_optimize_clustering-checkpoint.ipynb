{
 "cells": [
  {
   "cell_type": "code",
   "execution_count": 1,
   "metadata": {
    "collapsed": true
   },
   "outputs": [],
   "source": [
    "import pulp\n",
    "import pandas as pd\n",
    "import numpy as np\n",
    "import matplotlib\n",
    "from scipy.spatial.distance import euclidean, cdist\n",
    "import matplotlib.pyplot as plt\n",
    "import math\n",
    "from collections import defaultdict\n",
    "\n",
    "%matplotlib inline"
   ]
  },
  {
   "cell_type": "markdown",
   "metadata": {},
   "source": [
    "### create data"
   ]
  },
  {
   "cell_type": "code",
   "execution_count": 2,
   "metadata": {
    "collapsed": true
   },
   "outputs": [],
   "source": [
    "AREA_SIZE = 200\n",
    "NUM_SAMPLE = 108"
   ]
  },
  {
   "cell_type": "code",
   "execution_count": 3,
   "metadata": {
    "collapsed": true
   },
   "outputs": [],
   "source": [
    "list_point_id = list(range(1, NUM_SAMPLE + 1))"
   ]
  },
  {
   "cell_type": "code",
   "execution_count": 4,
   "metadata": {
    "collapsed": true
   },
   "outputs": [],
   "source": [
    "pid_coordinate_map = {}\n",
    "\n",
    "for i in list_point_id:\n",
    "    x, y = np.random.randint(0, AREA_SIZE), np.random.randint(0, AREA_SIZE)\n",
    "    pid_coordinate_map[i] = (x, y)\n",
    "    \n",
    "coordinate_pid_map = {v: k for k, v in pid_coordinate_map.items()}"
   ]
  },
  {
   "cell_type": "code",
   "execution_count": 5,
   "metadata": {
    "collapsed": true
   },
   "outputs": [],
   "source": [
    "pid_pid_distance_map = {}\n",
    "\n",
    "for i in list_point_id:\n",
    "    for j in list_point_id:\n",
    "        c1 = pid_coordinate_map[i]\n",
    "        c2 = pid_coordinate_map[j]\n",
    "        pid_pid_distance_map[i, j] = euclidean(c1, c2)"
   ]
  },
  {
   "cell_type": "code",
   "execution_count": 6,
   "metadata": {},
   "outputs": [
    {
     "data": {
      "text/plain": [
       "<matplotlib.collections.PathCollection at 0x60a306898>"
      ]
     },
     "execution_count": 6,
     "metadata": {},
     "output_type": "execute_result"
    },
    {
     "data": {
      "image/png": "[encoded data removed]",
      "text/plain": [
       "<matplotlib.figure.Figure at 0x60a4d4198>"
      ]
     },
     "metadata": {},
     "output_type": "display_data"
    }
   ],
   "source": [
    "fig = plt.figure(figsize=(15, 8))\n",
    "ax = fig.subplots()\n",
    "\n",
    "list_x, list_y = [], []\n",
    "for i in list_point_id:\n",
    "    c = pid_coordinate_map[i]\n",
    "    x, y = c[0], c[1]\n",
    "    list_x.append(x)\n",
    "    list_y.append(y)\n",
    "    \n",
    "ax.grid()\n",
    "ax.scatter(x=list_x, y=list_y)"
   ]
  },
  {
   "cell_type": "code",
   "execution_count": 7,
   "metadata": {},
   "outputs": [
    {
     "data": {
      "text/plain": [
       "count    11664.000000\n",
       "mean       109.544453\n",
       "std         54.004262\n",
       "min          0.000000\n",
       "25%         66.828126\n",
       "50%        110.065889\n",
       "75%        150.615404\n",
       "max        258.940148\n",
       "dtype: float64"
      ]
     },
     "execution_count": 7,
     "metadata": {},
     "output_type": "execute_result"
    },
    {
     "data": {
      "image/png": "[encoded data removed]",
      "text/plain": [
       "<matplotlib.figure.Figure at 0x60a4d4518>"
      ]
     },
     "metadata": {},
     "output_type": "display_data"
    }
   ],
   "source": [
    "# 距離行列の分布\n",
    "plt.hist(pid_pid_distance_map.values(), bins=10)\n",
    "\n",
    "tmp = pd.Series(list(pid_pid_distance_map.values()))\n",
    "tmp.describe()"
   ]
  },
  {
   "cell_type": "markdown",
   "metadata": {},
   "source": [
    "### modeling"
   ]
  },
  {
   "cell_type": "code",
   "execution_count": 8,
   "metadata": {
    "collapsed": true
   },
   "outputs": [],
   "source": [
    "model = pulp.LpProblem(sense=pulp.LpMinimize)\n",
    "sense_map = {v: k for k, v in pulp.LpConstraintSenses.items()}\n",
    "\n",
    "N_CLUSTER = math.ceil(NUM_SAMPLE/10.)\n",
    "MIN_CLUSTER_DIST = 61 # 距離行列の25%点あたり\n",
    "MIN_CLUSTER_SAMPLE = 5\n",
    "MAX_CLUSTER_SAMPLE = 10"
   ]
  },
  {
   "cell_type": "code",
   "execution_count": 9,
   "metadata": {
    "collapsed": true
   },
   "outputs": [],
   "source": [
    "pidpid_x_map = {}\n",
    "pidpid_z_map = {}\n",
    "for i in list_point_id:\n",
    "    for j in list_point_id:\n",
    "        if i == j:\n",
    "            continue\n",
    "        x = pulp.LpVariable(cat=pulp.LpBinary, name='x_%s_%s'%(i, j))\n",
    "        pidpid_x_map[i, j] = x\n",
    "        model.addVariable(x)\n",
    "\n",
    "        z = pulp.LpVariable(cat=pulp.LpBinary, name='z_%s_%s'%(i, j))\n",
    "        pidpid_z_map[i, j] = z\n",
    "        model.addVariable(z)\n",
    "\n",
    "pid_y_map = {}\n",
    "for i in list_point_id:\n",
    "    y = pulp.LpVariable(cat=pulp.LpBinary, name='y_%s'%i)\n",
    "    pid_y_map[i] = y\n",
    "    model.addVariable(y)"
   ]
  },
  {
   "cell_type": "code",
   "execution_count": 10,
   "metadata": {
    "collapsed": true
   },
   "outputs": [],
   "source": [
    "for i in list_point_id:\n",
    "    xexpr = pulp.lpSum(pidpid_x_map[i, j] for j in list_point_id if i != j)\n",
    "    constr = pulp.LpConstraint(e=xexpr + pid_y_map[i], sense=sense_map['='], rhs=1, name='point_must_be_in_cluster_%s'%i)\n",
    "    model.addConstraint(constr)"
   ]
  },
  {
   "cell_type": "code",
   "execution_count": 11,
   "metadata": {
    "collapsed": true
   },
   "outputs": [],
   "source": [
    "yexpr = pulp.lpSum(pid_y_map[i] for i in list_point_id)\n",
    "constr = pulp.LpConstraint(e=yexpr, sense=sense_map['='], rhs=N_CLUSTER, name='cluster_constraint')\n",
    "model.addConstraint(constr)"
   ]
  },
  {
   "cell_type": "code",
   "execution_count": 12,
   "metadata": {
    "collapsed": true
   },
   "outputs": [],
   "source": [
    "for i in list_point_id:\n",
    "    for j in list_point_id:\n",
    "        if i == j:\n",
    "            continue\n",
    "        expr = pidpid_x_map[i, j] - pid_y_map[j]\n",
    "        constr = pulp.LpConstraint(e=expr, sense=sense_map['<='], rhs=0, name='point_cluster_connection_%s_%s'%(i, j))\n",
    "        model.addConstraint(constr)"
   ]
  },
  {
   "cell_type": "code",
   "execution_count": 13,
   "metadata": {
    "collapsed": true
   },
   "outputs": [],
   "source": [
    "for j in list_point_id:\n",
    "    x_expr = pulp.lpSum(pidpid_x_map[i, j] for i in list_point_id if i != j)\n",
    "    l_expr = MIN_CLUSTER_SAMPLE * pid_y_map[j] - x_expr\n",
    "    l_constr = pulp.LpConstraint(e=l_expr, sense=sense_map['<='], rhs=0, name='min_cluster_sample_%s'%j)\n",
    "    model.addConstraint(l_constr)\n",
    "    \n",
    "    r_expr = x_expr - MAX_CLUSTER_SAMPLE * pid_y_map[j]\n",
    "    r_constr = pulp.LpConstraint(e=r_expr, sense=sense_map['<='], rhs=0, name='max_cluster_sample_%s'%j)\n",
    "    model.addConstraint(r_constr)"
   ]
  },
  {
   "cell_type": "code",
   "execution_count": 14,
   "metadata": {
    "collapsed": true
   },
   "outputs": [],
   "source": [
    "for i in list_point_id:\n",
    "    for j in list_point_id:\n",
    "        if i==j:\n",
    "            continue\n",
    "        mcd_constr = pulp.LpConstraint(e=pidpid_z_map[i, j] * MIN_CLUSTER_DIST, \n",
    "                                                sense=sense_map['<='], \n",
    "                                                rhs=pid_pid_distance_map[i, j], name='min_cluster_dist_constr_%s_%s'%(i, j))\n",
    "        \n",
    "        zy_constr1 = pulp.LpConstraint(e=pidpid_z_map[i, j] - pid_y_map[i], sense=sense_map['<='], \n",
    "                                                rhs=0, name='z_y_connection1_%s_%s'%(i, j))\n",
    "        \n",
    "        zy_constr2 = pulp.LpConstraint(e=pidpid_z_map[i, j] - pid_y_map[j], sense=sense_map['<='], \n",
    "                                                rhs=0, name='z_y_connection2_%s_%s'%(i, j))\n",
    "\n",
    "        zy_constr3 = pulp.LpConstraint(e=pid_y_map[i] + pid_y_map[j] - pidpid_z_map[i, j], sense=sense_map['<='],\n",
    "                                                       rhs=1, name='z_y_connection3_%s_%s'%(i, j))\n",
    "        \n",
    "        model.addConstraint(mcd_constr)\n",
    "        model.addConstraint(zy_constr1)\n",
    "        model.addConstraint(zy_constr2)\n",
    "        model.addConstraint(zy_constr3)"
   ]
  },
  {
   "cell_type": "code",
   "execution_count": 15,
   "metadata": {
    "collapsed": true
   },
   "outputs": [],
   "source": [
    "objective = pulp.lpSum(pid_pid_distance_map[i, j] * pidpid_x_map[i, j] for i in list_point_id for j in list_point_id if i != j)\n",
    "model.setObjective(objective)"
   ]
  },
  {
   "cell_type": "code",
   "execution_count": null,
   "metadata": {},
   "outputs": [],
   "source": [
    "solver = pulp.PULP_CBC_CMD(maxSeconds=None, msg=1)"
   ]
  },
  {
   "cell_type": "code",
   "execution_count": null,
   "metadata": {},
   "outputs": [],
   "source": [
    "model.writeLP('./optimize_cluster.lp')\n",
    "status = model.solve(solver=solver)\n",
    "pulp.LpStatus[status]"
   ]
  },
  {
   "cell_type": "markdown",
   "metadata": {},
   "source": [
    "### plot result"
   ]
  },
  {
   "cell_type": "code",
   "execution_count": null,
   "metadata": {
    "collapsed": true
   },
   "outputs": [],
   "source": [
    "list_cluster_id = []\n",
    "for i in list_point_id:\n",
    "    v = round(pulp.value(pid_y_map[i]))\n",
    "    if v == 1:\n",
    "        list_cluster_id.append(i)\n",
    "\n",
    "pid_clusterid_map = {}\n",
    "for i in list_point_id:\n",
    "    for j in list_point_id:\n",
    "        if i == j:\n",
    "            continue\n",
    "        v = round(pulp.value(pidpid_x_map[i, j]))\n",
    "        if v==1:\n",
    "            pid_clusterid_map[i] = j"
   ]
  },
  {
   "cell_type": "code",
   "execution_count": null,
   "metadata": {
    "collapsed": true
   },
   "outputs": [],
   "source": [
    "clusterid_pids_map = defaultdict(list)\n",
    "\n",
    "for pid, cid in pid_clusterid_map.items():\n",
    "    clusterid_pids_map[cid].append(pid)"
   ]
  },
  {
   "cell_type": "code",
   "execution_count": null,
   "metadata": {},
   "outputs": [],
   "source": [
    "# plot\n",
    "\n",
    "cmap = plt.get_cmap('tab10')\n",
    "fig = plt.figure(figsize=(15, 8))\n",
    "ax = fig.subplots()\n",
    "ax.grid()\n",
    "\n",
    "cmap = plt.get_cmap('tab10')\n",
    "for i, (cid, pids) in enumerate(clusterid_pids_map.items()):\n",
    "    cx, cy = pid_coordinate_map[cid]\n",
    "    color = cmap(i)\n",
    "    ax.scatter(x=cx, y=cy, c=color, s=100)\n",
    "\n",
    "    list_x, list_y = [], []\n",
    "    for pid in pids:\n",
    "        px, py = pid_coordinate_map[pid]\n",
    "        list_x.append(px)\n",
    "        list_y.append(py)\n",
    "\n",
    "    ax.scatter(x=list_x, y=list_y, c=color)"
   ]
  },
  {
   "cell_type": "code",
   "execution_count": null,
   "metadata": {
    "collapsed": true
   },
   "outputs": [],
   "source": [
    "# クラスター間の距離制約を違反していないか確認。\n",
    "for i in list_cluster_id:\n",
    "    for j in list_cluster_id:\n",
    "        if i == j:\n",
    "            continue\n",
    "        dist = pid_pid_distance_map[i, j]\n",
    "        if dist <= MIN_CLUSTER_DIST:\n",
    "            raise Exception('mcd err')"
   ]
  },
  {
   "cell_type": "code",
   "execution_count": null,
   "metadata": {
    "collapsed": true
   },
   "outputs": [],
   "source": []
  }
 ],
 "metadata": {
  "kernelspec": {
   "display_name": "Python 3",
   "language": "python",
   "name": "python3"
  },
  "language_info": {
   "codemirror_mode": {
    "name": "ipython",
    "version": 3
   },
   "file_extension": ".py",
   "mimetype": "text/x-python",
   "name": "python",
   "nbconvert_exporter": "python",
   "pygments_lexer": "ipython3",
   "version": "3.6.3"
  }
 },
 "nbformat": 4,
 "nbformat_minor": 2
}
