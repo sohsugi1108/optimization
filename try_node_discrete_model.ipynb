{
 "cells": [
  {
   "cell_type": "markdown",
   "metadata": {},
   "source": [
    "### pulp+cbcを用いて、ノードを離散化して不在確率込みのTSPを解く"
   ]
  },
  {
   "cell_type": "code",
   "execution_count": 1,
   "metadata": {
    "collapsed": true
   },
   "outputs": [],
   "source": [
    "import random, math\n",
    "import pulp\n",
    "import itertools\n",
    "import networkx as nx\n",
    "from scipy.spatial.distance import euclidean\n",
    "import matplotlib.pyplot as plt\n",
    "from itertools import combinations, permutations\n",
    "\n",
    "%matplotlib inline"
   ]
  },
  {
   "cell_type": "markdown",
   "metadata": {},
   "source": [
    "### データの作成"
   ]
  },
  {
   "cell_type": "code",
   "execution_count": 2,
   "metadata": {
    "collapsed": true
   },
   "outputs": [],
   "source": [
    "START_NODE = 0\n",
    "NUM_NODE = 7\n",
    "NUM_PERIOD = NUM_NODE + 2\n",
    "END_NODE = NUM_NODE + 1\n",
    "AREA_SIZE = 20"
   ]
  },
  {
   "cell_type": "code",
   "execution_count": 3,
   "metadata": {
    "collapsed": true
   },
   "outputs": [],
   "source": [
    "list_node_with_start_end = list(range(START_NODE, NUM_NODE + 2))\n",
    "list_node_with_start = list(range(START_NODE, NUM_NODE + 1))\n",
    "list_node_with_end = list(range(1, NUM_NODE + 2))\n",
    "list_node = list(range(1, NUM_NODE + 1))\n",
    "list_period = list(range(1, NUM_PERIOD + 1))"
   ]
  },
  {
   "cell_type": "code",
   "execution_count": 4,
   "metadata": {
    "collapsed": true
   },
   "outputs": [],
   "source": [
    "node_coordinate_map = {}\n",
    "for n in list_node:\n",
    "    node_coordinate_map[n] = (random.randint(0, AREA_SIZE), random.randint(0, AREA_SIZE))"
   ]
  },
  {
   "cell_type": "code",
   "execution_count": 5,
   "metadata": {
    "collapsed": true
   },
   "outputs": [],
   "source": [
    "node_period_proba_map = {}\n",
    "for n in list_node:\n",
    "    for t in list_period:\n",
    "        node_period_proba_map[n, t] = random.random()"
   ]
  },
  {
   "cell_type": "code",
   "execution_count": 6,
   "metadata": {
    "collapsed": true
   },
   "outputs": [],
   "source": [
    "node_node_dist_map = {}\n",
    "for n1 in list_node:\n",
    "    for n2 in list_node:\n",
    "        x = node_coordinate_map[n1]\n",
    "        y = node_coordinate_map[n2]\n",
    "        node_node_dist_map[n1, n2] = euclidean(x, y)"
   ]
  },
  {
   "cell_type": "markdown",
   "metadata": {},
   "source": [
    "### モデルの作成"
   ]
  },
  {
   "cell_type": "code",
   "execution_count": 7,
   "metadata": {
    "collapsed": true
   },
   "outputs": [],
   "source": [
    "model = pulp.LpProblem(name='time-dependence-tsp', sense=pulp.LpMinimize)\n",
    "sense_map = {v: k for k, v in pulp.LpConstraintSenses.items()}"
   ]
  },
  {
   "cell_type": "markdown",
   "metadata": {},
   "source": [
    "#### 変数の作成"
   ]
  },
  {
   "cell_type": "code",
   "execution_count": 8,
   "metadata": {
    "collapsed": true
   },
   "outputs": [],
   "source": [
    "x_ij = {}\n",
    "for i in list_node_with_start:\n",
    "    for j in list_node_with_end:\n",
    "        if i==j:\n",
    "            continue\n",
    "            \n",
    "        if i==START_NODE and j==END_NODE:\n",
    "            continue\n",
    "        v = pulp.LpVariable(cat=pulp.LpBinary, name='x_%s_%s'%(i, j))\n",
    "        x_ij[i, j] = v\n",
    "        model.addVariable(v)\n",
    "\n",
    "y_it = {}\n",
    "for i in list_node_with_start_end:\n",
    "    for t in list_period:\n",
    "        v = pulp.LpVariable(cat=pulp.LpBinary, name='y_%s_%s'%(i, t))\n",
    "        y_it[i, t] = v\n",
    "        model.addVariable(v)"
   ]
  },
  {
   "cell_type": "markdown",
   "metadata": {},
   "source": [
    "#### 制約式の作成"
   ]
  },
  {
   "cell_type": "code",
   "execution_count": 9,
   "metadata": {
    "collapsed": true
   },
   "outputs": [],
   "source": [
    "constr = pulp.LpConstraint(e=y_it[START_NODE, list_period[0]], sense=sense_map['='], rhs=1, name='first_node_constr')\n",
    "model.addConstraint(constr)\n",
    "\n",
    "constr = pulp.LpConstraint(e=y_it[END_NODE, list_period[-1]], sense=sense_map['='], rhs=1, name='end_node_constr')\n",
    "model.addConstraint(constr)"
   ]
  },
  {
   "cell_type": "code",
   "execution_count": 10,
   "metadata": {
    "collapsed": true
   },
   "outputs": [],
   "source": [
    "x_expr = pulp.lpSum(x_ij[START_NODE, i] for i in list_node)\n",
    "constr = pulp.LpConstraint(e=x_expr, sense=sense_map['='], rhs=1, name='first_edge_constr')\n",
    "model.addConstraint(constr)\n",
    "\n",
    "x_expr = pulp.lpSum(x_ij[i, END_NODE] for i in list_node)\n",
    "constr = pulp.LpConstraint(e=x_expr, sense=sense_map['='], rhs=1, name='end_edge_constr')\n",
    "model.addConstraint(constr)"
   ]
  },
  {
   "cell_type": "code",
   "execution_count": 11,
   "metadata": {
    "collapsed": true
   },
   "outputs": [],
   "source": [
    "for i in list_node_with_start_end:\n",
    "    y_expr = pulp.lpSum(y_it[i, t] for t in list_period)\n",
    "    constr = pulp.LpConstraint(e=y_expr, sense=sense_map['='],  rhs=1, name='node_visit_%s'%i)\n",
    "    model.addConstraint(constr)"
   ]
  },
  {
   "cell_type": "code",
   "execution_count": 12,
   "metadata": {},
   "outputs": [],
   "source": [
    "BigM = len(list_period)\n",
    "for i in list_node_with_start:\n",
    "    for j in list_node_with_end:\n",
    "        if (i, j) not in x_ij:\n",
    "            continue\n",
    "        expr = pulp.lpSum((t + 1)* y_it[i, t] for t in list_period) - pulp.lpSum(t * y_it[j, t] for t in list_period) + \\\n",
    "                   BigM * x_ij[i, j]\n",
    "        constr = pulp.LpConstraint(e=expr, sense=sense_map['<='], rhs=BigM, name='mtz_%s_%s'%(i, j))\n",
    "        model.addConstraint(constr)"
   ]
  },
  {
   "cell_type": "code",
   "execution_count": 13,
   "metadata": {
    "collapsed": true
   },
   "outputs": [],
   "source": [
    "for i in list_node:\n",
    "    x_expr = pulp.lpSum(x_ij[j, i] for j in list_node_with_start if (j, i) in x_ij)\n",
    "    y_expr = pulp.lpSum(y_it[i, t] for t in list_period)\n",
    "    node_in_constr = pulp.LpConstraint(e=x_expr - y_expr, sense=sense_map['='], rhs=0, name='node_in_%s'%i)\n",
    "    model.addConstraint(node_in_constr)\n",
    "    \n",
    "    x_expr = pulp.lpSum(x_ij[i, j] for j in list_node_with_end if (i, j) in x_ij)\n",
    "    y_expr = pulp.lpSum(y_it[i, t] for t in list_period)\n",
    "    node_out_constr = pulp.LpConstraint(e=y_expr - x_expr, sense=sense_map['='], rhs=0, name='node_out_%s'%i)\n",
    "    model.addConstraint(node_out_constr)"
   ]
  },
  {
   "cell_type": "markdown",
   "metadata": {},
   "source": [
    "#### 目的関数の作成"
   ]
  },
  {
   "cell_type": "code",
   "execution_count": 14,
   "metadata": {
    "collapsed": true
   },
   "outputs": [],
   "source": [
    "objective_physical_dist = pulp.lpSum(node_node_dist_map[i, j] * x_ij[i, j] for i in list_node for j in list_node if (i, j) in x_ij)\n",
    "objective_penalty_dist = pulp.lpSum(\n",
    "                                            sum(node_node_dist_map[j, i] / (len(list_node) - 1) for j in list_node) * \n",
    "                                            node_period_proba_map[i, t] * \n",
    "                                            y_it[i, t] for i in list_node for t in list_period\n",
    "                                     )\n",
    "\n",
    "model.setObjective(objective_physical_dist + objective_penalty_dist)"
   ]
  },
  {
   "cell_type": "markdown",
   "metadata": {},
   "source": [
    "#### 最適化の実行"
   ]
  },
  {
   "cell_type": "code",
   "execution_count": 15,
   "metadata": {},
   "outputs": [
    {
     "name": "stdout",
     "output_type": "stream",
     "text": [
      "Wall time: 4.01 s\n"
     ]
    }
   ],
   "source": [
    "%%time\n",
    "\n",
    "model.writeLP('./node_discrete_tsp.lp')\n",
    "solver = pulp.PULP_CBC_CMD(msg=1, maxSeconds=None, fracGap=0.1, threads=None)\n",
    "pulp.LpStatus[model.solve(solver=solver)]"
   ]
  },
  {
   "cell_type": "markdown",
   "metadata": {},
   "source": [
    "#### 最適化の実行（mtzをlazyに追加してみる）"
   ]
  },
  {
   "cell_type": "code",
   "execution_count": 16,
   "metadata": {
    "collapsed": true
   },
   "outputs": [],
   "source": [
    "def add_lazy_mtz_constraint(edges):\n",
    "    \"\"\"途中解の部分巡回路に対してだけmtz制約を加える\n",
    "    \"\"\"\n",
    "    G = nx.Graph()\n",
    "    G.add_nodes_from(list_node_with_start_end)\n",
    "    for (i, j) in edges:\n",
    "        G.add_edge(i, j)\n",
    "    list_subtour = list(nx.connected_components(G))\n",
    "    print('--------subtour--------')\n",
    "    print(list_subtour, 'n_subtour_%s'%len(list_subtour))\n",
    "    if len(list_subtour)==1:\n",
    "        return False\n",
    "\n",
    "    for subtour in list_subtour:\n",
    "        for (i, j) in permutations(subtour, 2):\n",
    "            if (i, j) not in x_ij or 'mtz_%s_%s'%(i, j) in model.constraints:\n",
    "                continue\n",
    "\n",
    "            expr = pulp.lpSum((t + 1)* y_it[i, t] for t in list_period) - pulp.lpSum(t * y_it[j, t] for t in list_period) + \\\n",
    "                       len(list_period) * x_ij[i, j]\n",
    "            constr = pulp.LpConstraint(e=expr, sense=sense_map['<='], rhs=len(list_period), name='mtz_%s_%s'%(i, j))\n",
    "            model.addConstraint(constr)\n",
    "    return True"
   ]
  },
  {
   "cell_type": "code",
   "execution_count": 17,
   "metadata": {},
   "outputs": [],
   "source": [
    "# #%%time\n",
    "\n",
    "# # mtzをlazy化して最適化する\n",
    "# # 部分巡回路のための最適化は解が見つかれば十分\n",
    "# solver_iter = pulp.PULP_CBC_CMD(msg=1, maxSeconds=None, fracGap=0.1, threads=None, options=['maxsol 1'])\n",
    "# solver_last = pulp.PULP_CBC_CMD(msg=1, maxSeconds=None, fracGap=0.1, threads=None)\n",
    "\n",
    "# while True:\n",
    "#     print('solve relax')\n",
    "#     model.solve(solver=solver_last)\n",
    "#     edges = []\n",
    "#     for (i, j) in x_ij:\n",
    "#         if pulp.value(x_ij[i, j]) >= 0.5:\n",
    "#             edges.append((i, j))\n",
    "#     print('-------edges-------')\n",
    "#     print(edges)\n",
    "#     if not add_lazy_mtz_constraint(edges=edges):\n",
    "#         # 線形緩和を解除\n",
    "#         for (i, j), v in x_ij.items():\n",
    "#             v.cat = pulp.LpInteger\n",
    "#             v.lowBound = 0\n",
    "#             v.upBound = 1\n",
    "#             x_ij[i, j] = v\n",
    "\n",
    "#         for (i, t), v in y_it.items():\n",
    "#             v.cat = pulp.LpInteger\n",
    "#             v.lowBound = 0\n",
    "#             v.upBound = 1\n",
    "#             y_it[i, t] = v\n",
    "\n",
    "#         for (i, j) in edges:\n",
    "#             if (i, j) not in x_ij or 'mtz_%s_%s'%(i, j) in model.constraints:\n",
    "#                 continue\n",
    "#             expr = pulp.lpSum((t + 1)* y_it[i, t] for t in list_period) - pulp.lpSum(t * y_it[j, t] for t in list_period) + \\\n",
    "#                        len(list_period) * x_ij[i, j]\n",
    "#             constr = pulp.LpConstraint(e=expr, sense=sense_map['<='], rhs=len(list_period), name='mtz_%s_%s'%(i, j))\n",
    "#             model.addConstraint(constr)\n",
    "\n",
    "#         if model.isMIP()==1:\n",
    "#             model.writeLP('./node_discrete_tsp.lp')\n",
    "#             model.solve(solver=solver_last)\n",
    "#             break\n",
    "#         else:\n",
    "#             raise Exception('model is not mip')"
   ]
  },
  {
   "cell_type": "code",
   "execution_count": 18,
   "metadata": {},
   "outputs": [
    {
     "name": "stdout",
     "output_type": "stream",
     "text": [
      "---------x---------\n",
      "0 5\n",
      "1 3\n",
      "2 1\n",
      "3 7\n",
      "4 6\n",
      "5 4\n",
      "6 2\n",
      "7 8\n",
      "--------y----------\n",
      "0 1\n",
      "1 6\n",
      "2 5\n",
      "3 7\n",
      "4 3\n",
      "5 2\n",
      "6 4\n",
      "7 8\n",
      "8 9\n"
     ]
    }
   ],
   "source": [
    "# xの確認\n",
    "print('---------x---------')\n",
    "for (i, j) in x_ij:\n",
    "    if round(pulp.value(x_ij[i, j]))==1:\n",
    "        print(i, j)\n",
    "        \n",
    "# yの確認\n",
    "print('--------y----------')\n",
    "for i in list_node_with_start_end:\n",
    "    for t in list_period:\n",
    "        if round(pulp.value(y_it[i, t]))==1:\n",
    "            print(i, t)"
   ]
  },
  {
   "cell_type": "markdown",
   "metadata": {},
   "source": [
    "### 結果の可視化"
   ]
  },
  {
   "cell_type": "code",
   "execution_count": 19,
   "metadata": {
    "collapsed": true
   },
   "outputs": [],
   "source": [
    "node_visitperiod_map = {}\n",
    "for i in list_node_with_start_end:\n",
    "    for t in list_period:\n",
    "        if round(pulp.value(y_it[i, t]))==1:\n",
    "            node_visitperiod_map[i] = t"
   ]
  },
  {
   "cell_type": "code",
   "execution_count": 20,
   "metadata": {},
   "outputs": [],
   "source": [
    "# visitするperiod順にpathがつながっていないといけない\n",
    "list_visit_node = [i[0] for i in sorted(node_visitperiod_map.items(), key=lambda x: x[1])]\n",
    "\n",
    "list_visit_path = []\n",
    "for i, j in zip(list_visit_node, list_visit_node[1:]):\n",
    "    if i==START_NODE or j==END_NODE:\n",
    "        continue\n",
    "    if (i, j) in x_ij and round(pulp.value(x_ij[i, j])) == 1:\n",
    "        list_visit_path.append((i, j))"
   ]
  },
  {
   "cell_type": "code",
   "execution_count": 21,
   "metadata": {
    "collapsed": true
   },
   "outputs": [],
   "source": [
    "node_visitproba_map = {}\n",
    "\n",
    "for k, v in node_visitperiod_map.items():\n",
    "    if k==START_NODE or k==END_NODE:\n",
    "        continue\n",
    "    node_visitproba_map[k] = node_period_proba_map[k, v]"
   ]
  },
  {
   "cell_type": "code",
   "execution_count": 22,
   "metadata": {},
   "outputs": [
    {
     "data": {
      "image/png": "[encoded data removed]",
      "text/plain": [
       "<matplotlib.figure.Figure at 0xe31a630>"
      ]
     },
     "metadata": {},
     "output_type": "display_data"
    }
   ],
   "source": [
    "fig = plt.figure(figsize=(15, 8))\n",
    "ax = fig.add_subplot(111)\n",
    "\n",
    "ax.grid()\n",
    "ax.set_xlim(0, AREA_SIZE)\n",
    "ax.set_ylim(0, AREA_SIZE)\n",
    "for i, path in enumerate(list_visit_path, start=1):\n",
    "    start, end = path[0], path[1]\n",
    "    # plot start node\n",
    "    ax.plot(*node_coordinate_map[start], 'o', color='blue')\n",
    "    visit_period = node_visitperiod_map[start]\n",
    "    visit_proba = node_visitproba_map[start]\n",
    "    label = 'period: %s, \\n node: %s, \\n proba: %s'%(visit_period, start, round(visit_proba, 2))\n",
    "    ax.annotate(label, xy=node_coordinate_map[start], size=10)\n",
    "\n",
    "    # plot end node\n",
    "    ax.plot(*node_coordinate_map[end], 'o', color='blue')\n",
    "    if i==len(list_visit_path):\n",
    "        visit_period = node_visitperiod_map[end]\n",
    "        visit_proba = node_visitproba_map[end]\n",
    "        label = 'period: %s, \\n node: %s, \\n proba: %s'%(visit_period, end, round(visit_proba, 2))\n",
    "        ax.annotate(label, xy=node_coordinate_map[end], size=10)\n",
    "\n",
    "    # plot arrow\n",
    "    ax.annotate('', \n",
    "                xy=node_coordinate_map[end], xytext=node_coordinate_map[start],\n",
    "                arrowprops=dict(shrink=0, width=1, headwidth=8, \n",
    "                                headlength=10, connectionstyle='arc3',\n",
    "                                facecolor='gray', edgecolor='gray'))"
   ]
  },
  {
   "cell_type": "markdown",
   "metadata": {
    "collapsed": true
   },
   "source": [
    "#### scopを使ってtspを解く"
   ]
  },
  {
   "cell_type": "code",
   "execution_count": 23,
   "metadata": {
    "collapsed": true
   },
   "outputs": [],
   "source": [
    "import scop"
   ]
  },
  {
   "cell_type": "code",
   "execution_count": 156,
   "metadata": {},
   "outputs": [],
   "source": [
    "model = scop.Model('time-dependent-tsp')"
   ]
  },
  {
   "cell_type": "code",
   "execution_count": 157,
   "metadata": {
    "collapsed": true
   },
   "outputs": [],
   "source": [
    "list_period = list_node #source-sinkはscopでは使わない"
   ]
  },
  {
   "cell_type": "code",
   "execution_count": 158,
   "metadata": {},
   "outputs": [
    {
     "data": {
      "text/plain": [
       "[1, 2, 3, 4, 5, 6, 7]"
      ]
     },
     "execution_count": 158,
     "metadata": {},
     "output_type": "execute_result"
    }
   ],
   "source": [
    "list_node"
   ]
  },
  {
   "cell_type": "code",
   "execution_count": 159,
   "metadata": {
    "collapsed": true
   },
   "outputs": [],
   "source": [
    "# 変数を作る\n",
    "x_i = {}\n",
    "for i in list_node:\n",
    "    v = model.addVariable(name='x_%s'%i, domain=list_period)\n",
    "    x_i[i] = v"
   ]
  },
  {
   "cell_type": "code",
   "execution_count": 160,
   "metadata": {},
   "outputs": [],
   "source": [
    "all_diff_constr = scop.Alldiff(name='all_diff', varlist=x_i.values(), weight='inf')\n",
    "model.addConstraint(all_diff_constr)"
   ]
  },
  {
   "cell_type": "code",
   "execution_count": 161,
   "metadata": {
    "collapsed": true
   },
   "outputs": [],
   "source": [
    "# 目的関数（物理距離）\n",
    "phys_dist_constr = scop.Quadratic(name='phys_dist', direction='<=', rhs=0, weight=1)\n",
    "for i, j in list(itertools.permutations(list_node, 2)):\n",
    "    for t in list_period[1:]:\n",
    "        phys_dist_constr.addTerms(int(node_node_dist_map[i, j]), x_i[i], t-1, x_i[j], t)\n",
    "        \n",
    "model.addConstraint(phys_dist_constr)"
   ]
  },
  {
   "cell_type": "code",
   "execution_count": 162,
   "metadata": {},
   "outputs": [],
   "source": [
    "# 目的関数（有効距離）\n",
    "effect_dist_constr = scop.Linear(name='effect_dist', direction='<=', rhs=0, weight=1)\n",
    "for i in list_node:\n",
    "    for t in list_period:\n",
    "        coeff = sum(node_node_dist_map[j, i] / (len(list_node) - 1) for j in list_node) * node_period_proba_map[i, t]\n",
    "        coeff = int(round(coeff, 0)) # 係数はintじゃないとだめっぽい\n",
    "        effect_dist_constr.addTerms(coeff, x_i[i], t)\n",
    "        \n",
    "model.addConstraint(effect_dist_constr)"
   ]
  },
  {
   "cell_type": "code",
   "execution_count": 163,
   "metadata": {},
   "outputs": [
    {
     "name": "stdout",
     "output_type": "stream",
     "text": [
      "\n",
      " ================ Now solving the problem ================ \n",
      "\n"
     ]
    },
    {
     "data": {
      "text/plain": [
       "({'x_1': '4',\n",
       "  'x_2': '5',\n",
       "  'x_3': '7',\n",
       "  'x_4': '1',\n",
       "  'x_5': '2',\n",
       "  'x_6': '3',\n",
       "  'x_7': '6'},\n",
       " {'effect_dist': 17, 'phys_dist': 38})"
      ]
     },
     "execution_count": 163,
     "metadata": {},
     "output_type": "execute_result"
    }
   ],
   "source": [
    "model.optimize()"
   ]
  },
  {
   "cell_type": "code",
   "execution_count": 164,
   "metadata": {},
   "outputs": [
    {
     "data": {
      "text/plain": [
       "0"
      ]
     },
     "execution_count": 164,
     "metadata": {},
     "output_type": "execute_result"
    }
   ],
   "source": [
    "model.Status"
   ]
  },
  {
   "cell_type": "code",
   "execution_count": null,
   "metadata": {
    "collapsed": true
   },
   "outputs": [],
   "source": []
  }
 ],
 "metadata": {
  "kernelspec": {
   "display_name": "Python 3",
   "language": "python",
   "name": "python3"
  },
  "language_info": {
   "codemirror_mode": {
    "name": "ipython",
    "version": 3
   },
   "file_extension": ".py",
   "mimetype": "text/x-python",
   "name": "python",
   "nbconvert_exporter": "python",
   "pygments_lexer": "ipython3",
   "version": "3.6.3"
  }
 },
 "nbformat": 4,
 "nbformat_minor": 2
}
