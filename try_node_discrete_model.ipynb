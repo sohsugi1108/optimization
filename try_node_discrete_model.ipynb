{
 "cells": [
  {
   "cell_type": "markdown",
   "metadata": {},
   "source": [
    "### pulp+cbcを用いて、ノードを離散化して不在確率込みのTSPを解く"
   ]
  },
  {
   "cell_type": "code",
   "execution_count": 1,
   "metadata": {},
   "outputs": [],
   "source": [
    "import random, math\n",
    "import pulp\n",
    "import itertools\n",
    "from scipy.spatial.distance import euclidean\n",
    "import matplotlib.pyplot as plt\n",
    "\n",
    "%matplotlib inline"
   ]
  },
  {
   "cell_type": "markdown",
   "metadata": {},
   "source": [
    "### データの作成"
   ]
  },
  {
   "cell_type": "code",
   "execution_count": 2,
   "metadata": {},
   "outputs": [],
   "source": [
    "START_NODE = 0\n",
    "NUM_NODE = 10\n",
    "NUM_PERIOD = NUM_NODE + 2\n",
    "END_NODE = NUM_NODE + 1\n",
    "AREA_SIZE = 20"
   ]
  },
  {
   "cell_type": "code",
   "execution_count": 3,
   "metadata": {
    "collapsed": true
   },
   "outputs": [],
   "source": [
    "list_node_with_start_end = list(range(START_NODE, NUM_NODE + 2))\n",
    "list_node_with_start = list(range(START_NODE, NUM_NODE + 1))\n",
    "list_node_with_end = list(range(1, NUM_NODE + 2))\n",
    "list_node = list(range(1, NUM_NODE + 1))\n",
    "list_period = list(range(1, NUM_PERIOD + 1))"
   ]
  },
  {
   "cell_type": "code",
   "execution_count": 4,
   "metadata": {},
   "outputs": [],
   "source": [
    "node_coordinate_map = {}\n",
    "for n in list_node:\n",
    "    node_coordinate_map[n] = (random.randint(0, AREA_SIZE), random.randint(0, AREA_SIZE))"
   ]
  },
  {
   "cell_type": "code",
   "execution_count": 5,
   "metadata": {},
   "outputs": [],
   "source": [
    "node_period_proba_map = {}\n",
    "for n in list_node:\n",
    "    for t in list_period:\n",
    "        node_period_proba_map[n, t] = random.random()"
   ]
  },
  {
   "cell_type": "code",
   "execution_count": 6,
   "metadata": {},
   "outputs": [],
   "source": [
    "node_node_dist_map = {}\n",
    "for n1 in list_node:\n",
    "    for n2 in list_node:\n",
    "        x = node_coordinate_map[n1]\n",
    "        y = node_coordinate_map[n2]\n",
    "        node_node_dist_map[n1, n2] = euclidean(x, y)"
   ]
  },
  {
   "cell_type": "markdown",
   "metadata": {},
   "source": [
    "### モデルの作成"
   ]
  },
  {
   "cell_type": "code",
   "execution_count": 7,
   "metadata": {},
   "outputs": [],
   "source": [
    "model = pulp.LpProblem(name='time-dependence-tsp', sense=pulp.LpMinimize)\n",
    "sense_map = {v: k for k, v in pulp.LpConstraintSenses.items()}"
   ]
  },
  {
   "cell_type": "markdown",
   "metadata": {},
   "source": [
    "#### 変数の作成"
   ]
  },
  {
   "cell_type": "code",
   "execution_count": 8,
   "metadata": {},
   "outputs": [],
   "source": [
    "x_ij = {}\n",
    "for i in list_node_with_start:\n",
    "    for j in list_node_with_end:\n",
    "        if i==j:\n",
    "            continue\n",
    "        v = pulp.LpVariable(cat=pulp.LpBinary, name='x_%s_%s'%(i, j))\n",
    "        x_ij[i, j] = v\n",
    "        model.addVariable(v)\n",
    "\n",
    "y_it = {}\n",
    "for i in list_node_with_start_end:\n",
    "    for t in list_period:\n",
    "        v = pulp.LpVariable(cat=pulp.LpBinary, name='y_%s_%s'%(i, t))\n",
    "        y_it[i, t] = v\n",
    "        model.addVariable(v)"
   ]
  },
  {
   "cell_type": "markdown",
   "metadata": {},
   "source": [
    "#### 制約式の作成"
   ]
  },
  {
   "cell_type": "code",
   "execution_count": 9,
   "metadata": {
    "collapsed": true
   },
   "outputs": [],
   "source": [
    "constr = pulp.LpConstraint(e=y_it[START_NODE, list_period[0]], sense=sense_map['='], rhs=1, name='first_node_constr')\n",
    "model.addConstraint(constr)\n",
    "\n",
    "constr = pulp.LpConstraint(e=y_it[END_NODE, list_period[-1]], sense=sense_map['='], rhs=1, name='end_node_constr')\n",
    "model.addConstraint(constr)"
   ]
  },
  {
   "cell_type": "code",
   "execution_count": 10,
   "metadata": {
    "collapsed": true
   },
   "outputs": [],
   "source": [
    "x_expr = pulp.lpSum(x_ij[START_NODE, i] for i in list_node)\n",
    "constr = pulp.LpConstraint(e=x_expr, sense=sense_map['='], rhs=1, name='first_edge_constr')\n",
    "model.addConstraint(constr)"
   ]
  },
  {
   "cell_type": "code",
   "execution_count": 11,
   "metadata": {
    "collapsed": true
   },
   "outputs": [],
   "source": [
    "x_expr = pulp.lpSum(x_ij[i, END_NODE] for i in list_node)\n",
    "constr = pulp.LpConstraint(e=x_expr, sense=sense_map['='], rhs=1, name='end_edge_constr')\n",
    "model.addConstraint(constr)"
   ]
  },
  {
   "cell_type": "code",
   "execution_count": 12,
   "metadata": {
    "collapsed": true
   },
   "outputs": [],
   "source": [
    "for i in list_node_with_start_end:\n",
    "    y_expr = pulp.lpSum(y_it[i, t] for t in list_period)\n",
    "    constr = pulp.LpConstraint(e=y_expr, sense=sense_map['='],  rhs=1, name='node_visit_%s'%i)\n",
    "    model.addConstraint(constr)"
   ]
  },
  {
   "cell_type": "code",
   "execution_count": 13,
   "metadata": {},
   "outputs": [],
   "source": [
    "BigM = len(list_period)\n",
    "for i in list_node_with_start:\n",
    "    for j in list_node_with_end:\n",
    "        if i == j:\n",
    "            continue\n",
    "        expr = pulp.lpSum((t + 1)* y_it[i, t] for t in list_period) - pulp.lpSum(t * y_it[j, t] for t in list_period) + \\\n",
    "                   BigM * x_ij[i, j]\n",
    "        constr = pulp.LpConstraint(e=expr, sense=sense_map['<='], rhs=BigM, name='mtz_%s_%s'%(i, j))\n",
    "        model.addConstraint(constr)"
   ]
  },
  {
   "cell_type": "code",
   "execution_count": 14,
   "metadata": {},
   "outputs": [],
   "source": [
    "for i in list_node:\n",
    "    x_expr = pulp.lpSum(x_ij[j, i] for j in list_node_with_start if (j, i) in x_ij)\n",
    "    y_expr = pulp.lpSum(y_it[i, t] for t in list_period)\n",
    "    constr = pulp.LpConstraint(e=x_expr - y_expr, sense=sense_map['='], rhs=0, name='node_in_%s'%i)\n",
    "    model.addConstraint(constr)"
   ]
  },
  {
   "cell_type": "code",
   "execution_count": 15,
   "metadata": {},
   "outputs": [],
   "source": [
    "for i in list_node:\n",
    "    x_expr = pulp.lpSum(x_ij[i, j] for j in list_node_with_end if (i, j) in x_ij)\n",
    "    y_expr = pulp.lpSum(y_it[i, t] for t in list_period)\n",
    "    constr = pulp.LpConstraint(e=y_expr - x_expr, sense=sense_map['='], rhs=0, name='node_out_%s'%i)\n",
    "    model.addConstraint(constr)"
   ]
  },
  {
   "cell_type": "code",
   "execution_count": 16,
   "metadata": {},
   "outputs": [],
   "source": [
    "for i ,j in itertools.combinations(list_node, 2):\n",
    "    x_expr = x_ij[i, j] + x_ij[j, i]\n",
    "    constr = pulp.LpConstraint(e=x_expr, sense=sense_map['<='], rhs=1, name='path_cut_%s_%s'%(i, j))\n",
    "    model.addConstraint(constr)"
   ]
  },
  {
   "cell_type": "markdown",
   "metadata": {},
   "source": [
    "#### 目的関数の作成"
   ]
  },
  {
   "cell_type": "code",
   "execution_count": 17,
   "metadata": {},
   "outputs": [],
   "source": [
    "objective_physical_dist = pulp.lpSum(node_node_dist_map[i, j] * x_ij[i, j] for i in list_node for j in list_node if (i, j) in x_ij)\n",
    "objective_penalty_dist = pulp.lpSum(\n",
    "                                            sum(node_node_dist_map[j, i] / (len(list_node) - 1) for j in list_node) * \n",
    "                                            node_period_proba_map[i, t] * \n",
    "                                            y_it[i, t] for i in list_node for t in list_period\n",
    "                                     )\n",
    "\n",
    "model.setObjective(objective_physical_dist + objective_penalty_dist)"
   ]
  },
  {
   "cell_type": "markdown",
   "metadata": {},
   "source": [
    "#### 最適化の実行"
   ]
  },
  {
   "cell_type": "code",
   "execution_count": 18,
   "metadata": {
    "collapsed": true
   },
   "outputs": [],
   "source": [
    "solver = pulp.PULP_CBC_CMD(msg=1, maxSeconds=60, fracGap=0.1, threads=None)"
   ]
  },
  {
   "cell_type": "code",
   "execution_count": 19,
   "metadata": {},
   "outputs": [],
   "source": [
    "model.writeLP('./model.lp')"
   ]
  },
  {
   "cell_type": "code",
   "execution_count": 20,
   "metadata": {},
   "outputs": [],
   "source": [
    "status = pulp.LpStatus[model.solve(solver=solver)]"
   ]
  },
  {
   "cell_type": "code",
   "execution_count": 21,
   "metadata": {},
   "outputs": [
    {
     "name": "stdout",
     "output_type": "stream",
     "text": [
      "Not Solved\n"
     ]
    }
   ],
   "source": [
    "print(status)"
   ]
  },
  {
   "cell_type": "markdown",
   "metadata": {},
   "source": [
    "### 結果の可視化"
   ]
  },
  {
   "cell_type": "code",
   "execution_count": 22,
   "metadata": {},
   "outputs": [],
   "source": [
    "node_visitperiod_map = {}\n",
    "for i in list_node_with_start_end:\n",
    "    for t in list_period:\n",
    "        if round(pulp.value(y_it[i, t]))==1:\n",
    "            node_visitperiod_map[i] = t"
   ]
  },
  {
   "cell_type": "code",
   "execution_count": 23,
   "metadata": {},
   "outputs": [],
   "source": [
    "list_visit_node = [i[0] for i in sorted(node_visitperiod_map.items(), key=lambda x: x[1])]\n",
    "\n",
    "list_visit_path = []\n",
    "for i, j in zip(list_visit_node, list_visit_node[1:]):\n",
    "    if i==START_NODE or j==END_NODE:\n",
    "        continue\n",
    "    if (i, j) in x_ij and round(pulp.value(x_ij[i, j])) == 1:\n",
    "        list_visit_path.append((i, j))"
   ]
  },
  {
   "cell_type": "code",
   "execution_count": 24,
   "metadata": {},
   "outputs": [],
   "source": [
    "node_visitproba_map = {}\n",
    "\n",
    "for k, v in node_visitperiod_map.items():\n",
    "    if k==START_NODE or k==END_NODE:\n",
    "        continue\n",
    "    node_visitproba_map[k] = node_period_proba_map[k, v]"
   ]
  },
  {
   "cell_type": "code",
   "execution_count": 25,
   "metadata": {},
   "outputs": [
    {
     "data": {
      "image/png": "[encoded data removed]",
      "text/plain": [
       "<matplotlib.figure.Figure at 0xd4acd70>"
      ]
     },
     "metadata": {},
     "output_type": "display_data"
    }
   ],
   "source": [
    "fig = plt.figure(figsize=(15, 8))\n",
    "ax = fig.add_subplot(111)\n",
    "\n",
    "ax.grid()\n",
    "ax.set_xlim(0, AREA_SIZE)\n",
    "ax.set_ylim(0, AREA_SIZE)\n",
    "for i, path in enumerate(list_visit_path, start=1):\n",
    "    start, end = path[0], path[1]\n",
    "    # plot start node\n",
    "    ax.plot(*node_coordinate_map[start], 'o', color='blue')\n",
    "    visit_period = node_visitperiod_map[start]\n",
    "    visit_proba = node_visitproba_map[start]\n",
    "    label = 'period: %s, \\n node: %s, \\n proba: %s'%(visit_period, start, round(visit_proba, 2))\n",
    "    ax.annotate(label, xy=node_coordinate_map[start], size=10)\n",
    "\n",
    "    # plot end node\n",
    "    ax.plot(*node_coordinate_map[end], 'o', color='blue')\n",
    "    if i==len(list_visit_path):\n",
    "        visit_period = node_visitperiod_map[end]\n",
    "        visit_proba = node_visitproba_map[end]\n",
    "        label = 'period: %s, \\n node: %s, \\n proba: %s'%(visit_period, end, round(visit_proba, 2))\n",
    "        ax.annotate(label, xy=node_coordinate_map[end], size=10)\n",
    "\n",
    "    # plot arrow\n",
    "    ax.annotate('', \n",
    "                xy=node_coordinate_map[end], xytext=node_coordinate_map[start],\n",
    "                arrowprops=dict(shrink=0, width=1, headwidth=8, \n",
    "                                headlength=10, connectionstyle='arc3',\n",
    "                                facecolor='gray', edgecolor='gray'))"
   ]
  },
  {
   "cell_type": "code",
   "execution_count": null,
   "metadata": {
    "collapsed": true
   },
   "outputs": [],
   "source": []
  }
 ],
 "metadata": {
  "kernelspec": {
   "display_name": "Python 3",
   "language": "python",
   "name": "python3"
  },
  "language_info": {
   "codemirror_mode": {
    "name": "ipython",
    "version": 3
   },
   "file_extension": ".py",
   "mimetype": "text/x-python",
   "name": "python",
   "nbconvert_exporter": "python",
   "pygments_lexer": "ipython3",
   "version": "3.6.3"
  }
 },
 "nbformat": 4,
 "nbformat_minor": 2
}
