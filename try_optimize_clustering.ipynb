{
 "cells": [
  {
   "cell_type": "code",
   "execution_count": 1,
   "metadata": {
    "collapsed": true
   },
   "outputs": [],
   "source": [
    "import pulp\n",
    "import pandas as pd\n",
    "import numpy as np\n",
    "import matplotlib\n",
    "from scipy.spatial.distance import euclidean, cdist\n",
    "import matplotlib.pyplot as plt\n",
    "import math\n",
    "from collections import defaultdict\n",
    "\n",
    "%matplotlib inline"
   ]
  },
  {
   "cell_type": "markdown",
   "metadata": {},
   "source": [
    "### create data"
   ]
  },
  {
   "cell_type": "code",
   "execution_count": 2,
   "metadata": {
    "collapsed": true
   },
   "outputs": [],
   "source": [
    "AREA_SIZE = 200\n",
    "NUM_SAMPLE = 108"
   ]
  },
  {
   "cell_type": "code",
   "execution_count": 3,
   "metadata": {
    "collapsed": true
   },
   "outputs": [],
   "source": [
    "list_point_id = list(range(1, NUM_SAMPLE + 1))"
   ]
  },
  {
   "cell_type": "code",
   "execution_count": 4,
   "metadata": {
    "collapsed": true
   },
   "outputs": [],
   "source": [
    "pid_coordinate_map = {}\n",
    "\n",
    "for i in list_point_id:\n",
    "    x, y = np.random.randint(0, AREA_SIZE), np.random.randint(0, AREA_SIZE)\n",
    "    pid_coordinate_map[i] = (x, y)\n",
    "    \n",
    "coordinate_pid_map = {v: k for k, v in pid_coordinate_map.items()}"
   ]
  },
  {
   "cell_type": "code",
   "execution_count": 5,
   "metadata": {
    "collapsed": true
   },
   "outputs": [],
   "source": [
    "pid_pid_distance_map = {}\n",
    "\n",
    "for i in list_point_id:\n",
    "    for j in list_point_id:\n",
    "        c1 = pid_coordinate_map[i]\n",
    "        c2 = pid_coordinate_map[j]\n",
    "        pid_pid_distance_map[i, j] = euclidean(c1, c2)"
   ]
  },
  {
   "cell_type": "code",
   "execution_count": 6,
   "metadata": {},
   "outputs": [
    {
     "data": {
      "text/plain": [
       "<matplotlib.collections.PathCollection at 0xfa62b90>"
      ]
     },
     "execution_count": 6,
     "metadata": {},
     "output_type": "execute_result"
    },
    {
     "data": {
      "image/png": "[encoded data removed]",
      "text/plain": [
       "<matplotlib.figure.Figure at 0xe97e850>"
      ]
     },
     "metadata": {},
     "output_type": "display_data"
    }
   ],
   "source": [
    "fig = plt.figure(figsize=(15, 8))\n",
    "ax = fig.subplots()\n",
    "\n",
    "list_x, list_y = [], []\n",
    "for i in list_point_id:\n",
    "    c = pid_coordinate_map[i]\n",
    "    x, y = c[0], c[1]\n",
    "    list_x.append(x)\n",
    "    list_y.append(y)\n",
    "    \n",
    "ax.grid()\n",
    "ax.scatter(x=list_x, y=list_y)"
   ]
  },
  {
   "cell_type": "code",
   "execution_count": 7,
   "metadata": {},
   "outputs": [
    {
     "data": {
      "text/plain": [
       "count    11664.000000\n",
       "mean       105.477585\n",
       "std         50.272121\n",
       "min          0.000000\n",
       "25%         66.708320\n",
       "50%        103.532590\n",
       "75%        143.565316\n",
       "max        253.286399\n",
       "dtype: float64"
      ]
     },
     "execution_count": 7,
     "metadata": {},
     "output_type": "execute_result"
    },
    {
     "data": {
      "image/png": "[encoded data removed]",
      "text/plain": [
       "<matplotlib.figure.Figure at 0xfa95d50>"
      ]
     },
     "metadata": {},
     "output_type": "display_data"
    }
   ],
   "source": [
    "# 距離行列の分布\n",
    "plt.hist(pid_pid_distance_map.values(), bins=10)\n",
    "\n",
    "tmp = pd.Series(list(pid_pid_distance_map.values()))\n",
    "tmp.describe()"
   ]
  },
  {
   "cell_type": "markdown",
   "metadata": {},
   "source": [
    "### modeling"
   ]
  },
  {
   "cell_type": "markdown",
   "metadata": {},
   "source": [
    "$$\n",
    "    \\min: \\sum_{i, j}c_{i, j}\\cdot x_{i, j} \\\\\n",
    "    s,t : \\sum_{j \\in I, i \\neq j}x_{i, j} = 1 - y_i \\qquad (i \\in I) \\\\\n",
    "    \\sum_{i \\in I}y_i = ceil(\\frac{|I|}{MaxClusterSample}) \\\\\n",
    "    x_{i, j} \\leq y_j \\qquad (i, j \\in I) \\\\\n",
    "    MinClusterSample \\cdot y_j \\leq \\sum_{i \\in I, i \\neq j}x_{i, j} \\leq MaxClusterSample \\cdot y_j \\qquad  (j \\in J) \\\\\n",
    "    MinClusterDist \\cdot z_{i, j} \\leq c_{i, j} \\qquad (i, j \\in I) \\\\\n",
    "    z_{i, j} \\leq y_i, \\quad z_{i, j} \\leq y_j, \\quad y_i + y_j \\leq 1 + z_{i, j} \\qquad (i, j \\in I)\n",
    "$$"
   ]
  },
  {
   "cell_type": "code",
   "execution_count": 40,
   "metadata": {},
   "outputs": [],
   "source": [
    "model = pulp.LpProblem(sense=pulp.LpMinimize)\n",
    "sense_map = {v: k for k, v in pulp.LpConstraintSenses.items()}\n",
    "\n",
    "MIN_CLUSTER_DIST = 50\n",
    "MIN_CLUSTER_SAMPLE = 5\n",
    "MAX_CLUSTER_SAMPLE = 10\n",
    "N_CLUSTER = math.ceil(NUM_SAMPLE/MAX_CLUSTER_SAMPLE)"
   ]
  },
  {
   "cell_type": "code",
   "execution_count": 41,
   "metadata": {
    "collapsed": true
   },
   "outputs": [],
   "source": [
    "pidpid_x_map = {}\n",
    "pidpid_z_map = {}\n",
    "for i in list_point_id:\n",
    "    for j in list_point_id:\n",
    "        if i == j:\n",
    "            continue\n",
    "        x = pulp.LpVariable(cat=pulp.LpBinary, name='x_%s_%s'%(i, j))\n",
    "        pidpid_x_map[i, j] = x\n",
    "        model.addVariable(x)\n",
    "\n",
    "        z = pulp.LpVariable(cat=pulp.LpBinary, name='z_%s_%s'%(i, j))\n",
    "        pidpid_z_map[i, j] = z\n",
    "        model.addVariable(z)\n",
    "\n",
    "pid_y_map = {}\n",
    "for i in list_point_id:\n",
    "    y = pulp.LpVariable(cat=pulp.LpBinary, name='y_%s'%i)\n",
    "    pid_y_map[i] = y\n",
    "    model.addVariable(y)"
   ]
  },
  {
   "cell_type": "code",
   "execution_count": 42,
   "metadata": {
    "collapsed": true
   },
   "outputs": [],
   "source": [
    "for i in list_point_id:\n",
    "    xexpr = pulp.lpSum(pidpid_x_map[i, j] for j in list_point_id if i != j)\n",
    "    constr = pulp.LpConstraint(e=xexpr + pid_y_map[i], sense=sense_map['='], rhs=1, name='point_must_be_in_cluster_%s'%i)\n",
    "    model.addConstraint(constr)"
   ]
  },
  {
   "cell_type": "code",
   "execution_count": 43,
   "metadata": {
    "collapsed": true
   },
   "outputs": [],
   "source": [
    "yexpr = pulp.lpSum(pid_y_map[i] for i in list_point_id)\n",
    "constr = pulp.LpConstraint(e=yexpr, sense=sense_map['='], rhs=N_CLUSTER, name='cluster_constraint')\n",
    "model.addConstraint(constr)"
   ]
  },
  {
   "cell_type": "code",
   "execution_count": 44,
   "metadata": {
    "collapsed": true
   },
   "outputs": [],
   "source": [
    "for i in list_point_id:\n",
    "    for j in list_point_id:\n",
    "        if i == j:\n",
    "            continue\n",
    "        expr = pidpid_x_map[i, j] - pid_y_map[j]\n",
    "        constr = pulp.LpConstraint(e=expr, sense=sense_map['<='], rhs=0, name='point_cluster_connection_%s_%s'%(i, j))\n",
    "        model.addConstraint(constr)"
   ]
  },
  {
   "cell_type": "code",
   "execution_count": 45,
   "metadata": {
    "collapsed": true
   },
   "outputs": [],
   "source": [
    "for j in list_point_id:\n",
    "    x_expr = pulp.lpSum(pidpid_x_map[i, j] for i in list_point_id if i != j)\n",
    "    l_expr = MIN_CLUSTER_SAMPLE * pid_y_map[j] - x_expr\n",
    "    l_constr = pulp.LpConstraint(e=l_expr, sense=sense_map['<='], rhs=0, name='min_cluster_sample_%s'%j)\n",
    "    model.addConstraint(l_constr)\n",
    "    \n",
    "    r_expr = x_expr - MAX_CLUSTER_SAMPLE * pid_y_map[j]\n",
    "    r_constr = pulp.LpConstraint(e=r_expr, sense=sense_map['<='], rhs=0, name='max_cluster_sample_%s'%j)\n",
    "    model.addConstraint(r_constr)"
   ]
  },
  {
   "cell_type": "code",
   "execution_count": 46,
   "metadata": {
    "collapsed": true
   },
   "outputs": [],
   "source": [
    "for i in list_point_id:\n",
    "    for j in list_point_id:\n",
    "        if i==j:\n",
    "            continue\n",
    "        mcd_constr = pulp.LpConstraint(e=pidpid_z_map[i, j] * MIN_CLUSTER_DIST, \n",
    "                                                sense=sense_map['<='], \n",
    "                                                rhs=pid_pid_distance_map[i, j], name='min_cluster_dist_constr_%s_%s'%(i, j))\n",
    "        \n",
    "        zy_constr1 = pulp.LpConstraint(e=pidpid_z_map[i, j] - pid_y_map[i], sense=sense_map['<='], \n",
    "                                                rhs=0, name='z_y_connection1_%s_%s'%(i, j))\n",
    "        \n",
    "        zy_constr2 = pulp.LpConstraint(e=pidpid_z_map[i, j] - pid_y_map[j], sense=sense_map['<='], \n",
    "                                                rhs=0, name='z_y_connection2_%s_%s'%(i, j))\n",
    "\n",
    "        zy_constr3 = pulp.LpConstraint(e=pid_y_map[i] + pid_y_map[j] - pidpid_z_map[i, j], sense=sense_map['<='],\n",
    "                                                       rhs=1, name='z_y_connection3_%s_%s'%(i, j))\n",
    "        \n",
    "        model.addConstraint(mcd_constr)\n",
    "        model.addConstraint(zy_constr1)\n",
    "        model.addConstraint(zy_constr2)\n",
    "        model.addConstraint(zy_constr3)"
   ]
  },
  {
   "cell_type": "code",
   "execution_count": 47,
   "metadata": {
    "collapsed": true
   },
   "outputs": [],
   "source": [
    "objective = pulp.lpSum(pid_pid_distance_map[i, j] * pidpid_x_map[i, j] for i in list_point_id for j in list_point_id if i != j)\n",
    "model.setObjective(objective)"
   ]
  },
  {
   "cell_type": "code",
   "execution_count": 48,
   "metadata": {
    "collapsed": true
   },
   "outputs": [],
   "source": [
    "solver = pulp.PULP_CBC_CMD(maxSeconds=None, msg=1)"
   ]
  },
  {
   "cell_type": "code",
   "execution_count": 49,
   "metadata": {},
   "outputs": [
    {
     "data": {
      "text/plain": [
       "'Optimal'"
      ]
     },
     "execution_count": 49,
     "metadata": {},
     "output_type": "execute_result"
    }
   ],
   "source": [
    "model.writeLP('./optimize_cluster.lp')\n",
    "status = model.solve(solver=solver)\n",
    "pulp.LpStatus[status]"
   ]
  },
  {
   "cell_type": "markdown",
   "metadata": {},
   "source": [
    "#### 最適化結果を格納"
   ]
  },
  {
   "cell_type": "code",
   "execution_count": 50,
   "metadata": {
    "collapsed": true
   },
   "outputs": [],
   "source": [
    "class OptimizeResult(object):\n",
    "    def __init__(self, \n",
    "                       list_cluster_id,\n",
    "                       pid_coordinate_map,\n",
    "                       pid_clusterid_map, \n",
    "                       clusterid_pids_map,\n",
    "                       min_cluster_dist):\n",
    "\n",
    "        self.list_cluster_id = list_cluster_id\n",
    "        self.pid_coordinate_map = pid_coordinate_map\n",
    "        self.pid_clusterid_map = pid_clusterid_map\n",
    "        self.clusterid_pids_map = clusterid_pids_map\n",
    "        self.min_cluster_dist = min_cluster_dist"
   ]
  },
  {
   "cell_type": "code",
   "execution_count": 51,
   "metadata": {
    "collapsed": true
   },
   "outputs": [],
   "source": [
    "def get_optimize_result(list_point_id, pidpid_x_map, pid_coordinate_map):\n",
    "    \"\"\"最適化結果を格納する\n",
    "    \"\"\"\n",
    "    list_cluster_id = []\n",
    "    for i in list_point_id:\n",
    "        v = round(pulp.value(pid_y_map[i]))\n",
    "        if v == 1:\n",
    "            list_cluster_id.append(i)\n",
    "\n",
    "    pid_clusterid_map = {}\n",
    "    for i in list_point_id:\n",
    "        for j in list_point_id:\n",
    "            if i == j:\n",
    "                continue\n",
    "            v = round(pulp.value(pidpid_x_map[i, j]))\n",
    "            if v==1:\n",
    "                pid_clusterid_map[i] = j\n",
    "                \n",
    "    clusterid_pids_map = defaultdict(list)\n",
    "\n",
    "    for pid, cid in pid_clusterid_map.items():\n",
    "        clusterid_pids_map[cid].append(pid)\n",
    "        \n",
    "    result = OptimizeResult(list_cluster_id=list_cluster_id,\n",
    "                                       pid_coordinate_map=pid_coordinate_map,\n",
    "                                       pid_clusterid_map=pid_clusterid_map, \n",
    "                                       clusterid_pids_map=clusterid_pids_map, \n",
    "                                       min_cluster_dist=MIN_CLUSTER_DIST)\n",
    "    return result"
   ]
  },
  {
   "cell_type": "markdown",
   "metadata": {},
   "source": [
    "### plot (MCD = 0)"
   ]
  },
  {
   "cell_type": "code",
   "execution_count": 27,
   "metadata": {},
   "outputs": [],
   "source": [
    "def plot_result(optimize_result):\n",
    "    \"\"\"最適化結果を可視化する\n",
    "    \"\"\"\n",
    "    cmap = plt.get_cmap('tab10')\n",
    "    fig = plt.figure(figsize=(15, 8))\n",
    "    ax = fig.subplots()\n",
    "    ax.grid()\n",
    "\n",
    "    cmap = plt.get_cmap('tab10')\n",
    "    for i, (cid, pids) in enumerate(optimize_result.clusterid_pids_map.items()):\n",
    "        cx, cy = optimize_result.pid_coordinate_map[cid]\n",
    "        color = cmap(i)\n",
    "        ax.scatter(x=cx, y=cy, c=color, s=100)\n",
    "\n",
    "        list_x, list_y = [], []\n",
    "        for pid in pids:\n",
    "            px, py = optimize_result.pid_coordinate_map[pid]\n",
    "            list_x.append(px)\n",
    "            list_y.append(py)\n",
    "\n",
    "        ax.scatter(x=list_x, y=list_y, c=color)"
   ]
  },
  {
   "cell_type": "code",
   "execution_count": 28,
   "metadata": {},
   "outputs": [],
   "source": [
    "result = get_optimize_result(list_point_id=list_point_id, pidpid_x_map=pidpid_x_map, pid_coordinate_map=pid_coordinate_map)"
   ]
  },
  {
   "cell_type": "code",
   "execution_count": 29,
   "metadata": {},
   "outputs": [
    {
     "data": {
      "image/png": "[encoded data removed]",
      "text/plain": [
       "<matplotlib.figure.Figure at 0x173d6d0>"
      ]
     },
     "metadata": {},
     "output_type": "display_data"
    }
   ],
   "source": [
    "plot_result(result)"
   ]
  },
  {
   "cell_type": "markdown",
   "metadata": {},
   "source": [
    "### plot (MCD = 50)"
   ]
  },
  {
   "cell_type": "code",
   "execution_count": 52,
   "metadata": {},
   "outputs": [
    {
     "data": {
      "image/png": "[encoded data removed]",
      "text/plain": [
       "<matplotlib.figure.Figure at 0x1ac1ed0>"
      ]
     },
     "metadata": {},
     "output_type": "display_data"
    }
   ],
   "source": [
    "result = get_optimize_result(list_point_id=list_point_id, pidpid_x_map=pidpid_x_map, pid_coordinate_map=pid_coordinate_map)\n",
    "plot_result(result)"
   ]
  },
  {
   "cell_type": "code",
   "execution_count": null,
   "metadata": {
    "collapsed": true
   },
   "outputs": [],
   "source": []
  }
 ],
 "metadata": {
  "kernelspec": {
   "display_name": "Python 3",
   "language": "python",
   "name": "python3"
  },
  "language_info": {
   "codemirror_mode": {
    "name": "ipython",
    "version": 3
   },
   "file_extension": ".py",
   "mimetype": "text/x-python",
   "name": "python",
   "nbconvert_exporter": "python",
   "pygments_lexer": "ipython3",
   "version": "3.6.3"
  }
 },
 "nbformat": 4,
 "nbformat_minor": 2
}
